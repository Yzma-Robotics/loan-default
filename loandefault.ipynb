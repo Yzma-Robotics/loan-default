{
 "cells": [
  {
   "cell_type": "markdown",
   "metadata": {},
   "source": [
    "## The Art of Data Science\n",
    "## RIHAD VARIAWA, Data Scientist\n",
    "\n",
    "> “Jack of all trades, master of none, though oft times better than master of one.\"\n",
    "\n",
    "**Motivation for this task**\n",
    "\n",
    "- Solve a business problem\n",
    "- Understand the end-to-end approach\n",
    "- Build a data-driven Machine Learning application on the cloud\n",
    "\n",
    "\n",
    "** Approach ** to take a case-driven task to showcase this. We will aim to go-wide VS. go-deep. The approach will be both practical and scalable. Let's start by understanding the overall steps involved in building a data-driven application."
   ]
  },
  {
   "cell_type": "markdown",
   "metadata": {},
   "source": [
    "\n",
    "![The Art of DataScience Process](static/datascience.svg)\n"
   ]
  },
  {
   "cell_type": "markdown",
   "metadata": {},
   "source": [
    "## FRAME \n",
    "\n",
    "> \"Doing data science requires more time thinking than doing.\"\n",
    "\n",
    "A financial institution provides loans to consumers and has been doing so for a number of years. It now plans to adopt a data-driven lens to its loan portfolio. What are the **type of questions** it can ask?\n",
    "- What is the trend in loan defaults?\n",
    "- Do older customers have more loan defaults?\n",
    "- Which customers are likely to have a loan default?\n",
    "- Why do customers default on their loans?\n",
    "\n",
    "\n",
    "### Type of data-driven analytics\n",
    "- **Descriptive**: Understand historic patterns, trends, deviations, relationships and outlier\n",
    "- **Inquisitive**: Conduct hypothesis testing\n",
    "- **Predictive**: Make a prediction\n",
    "\n",
    "**Case Question: What is the probability of a loan default?**"
   ]
  },
  {
   "cell_type": "markdown",
   "metadata": {},
   "source": [
    "## ACQUIRE\n",
    "\n",
    "> \"Data is the new oil\"\n",
    "\n",
    "**Ways to acquire data** (typical data source)\n",
    "\n",
    "- Download from an internal system\n",
    "- Obtained from client, or other 3rd party\n",
    "- Extracted from a web-based API\n",
    "- Scraped from a website\n",
    "- Extracted from a PDF file\n",
    "- Gathered manually and recorded\n",
    "\n",
    "**Data Formats**: flat files (e.g. csv, tsv, xls), databases (e.g. MySQL), streaming (e.g. json), storage (e.g. HDFS)"
   ]
  },
  {
   "cell_type": "code",
   "execution_count": 1,
   "metadata": {},
   "outputs": [
    {
     "data": {
      "text/html": [
       "<div>\n",
       "<style>\n",
       "    .dataframe thead tr:only-child th {\n",
       "        text-align: right;\n",
       "    }\n",
       "\n",
       "    .dataframe thead th {\n",
       "        text-align: left;\n",
       "    }\n",
       "\n",
       "    .dataframe tbody tr th {\n",
       "        vertical-align: top;\n",
       "    }\n",
       "</style>\n",
       "<table border=\"1\" class=\"dataframe\">\n",
       "  <thead>\n",
       "    <tr style=\"text-align: right;\">\n",
       "      <th></th>\n",
       "      <th>default</th>\n",
       "      <th>amount</th>\n",
       "      <th>grade</th>\n",
       "      <th>years</th>\n",
       "      <th>ownership</th>\n",
       "      <th>income</th>\n",
       "      <th>age</th>\n",
       "    </tr>\n",
       "  </thead>\n",
       "  <tbody>\n",
       "    <tr>\n",
       "      <th>0</th>\n",
       "      <td>0</td>\n",
       "      <td>1000</td>\n",
       "      <td>B</td>\n",
       "      <td>2.0</td>\n",
       "      <td>RENT</td>\n",
       "      <td>19200.0</td>\n",
       "      <td>24</td>\n",
       "    </tr>\n",
       "    <tr>\n",
       "      <th>1</th>\n",
       "      <td>1</td>\n",
       "      <td>6500</td>\n",
       "      <td>A</td>\n",
       "      <td>2.0</td>\n",
       "      <td>MORTGAGE</td>\n",
       "      <td>66000.0</td>\n",
       "      <td>28</td>\n",
       "    </tr>\n",
       "    <tr>\n",
       "      <th>2</th>\n",
       "      <td>0</td>\n",
       "      <td>2400</td>\n",
       "      <td>A</td>\n",
       "      <td>2.0</td>\n",
       "      <td>RENT</td>\n",
       "      <td>60000.0</td>\n",
       "      <td>36</td>\n",
       "    </tr>\n",
       "    <tr>\n",
       "      <th>3</th>\n",
       "      <td>0</td>\n",
       "      <td>10000</td>\n",
       "      <td>C</td>\n",
       "      <td>3.0</td>\n",
       "      <td>RENT</td>\n",
       "      <td>62000.0</td>\n",
       "      <td>24</td>\n",
       "    </tr>\n",
       "    <tr>\n",
       "      <th>4</th>\n",
       "      <td>1</td>\n",
       "      <td>4000</td>\n",
       "      <td>C</td>\n",
       "      <td>2.0</td>\n",
       "      <td>RENT</td>\n",
       "      <td>20000.0</td>\n",
       "      <td>28</td>\n",
       "    </tr>\n",
       "  </tbody>\n",
       "</table>\n",
       "</div>"
      ],
      "text/plain": [
       "   default  amount grade  years ownership   income  age\n",
       "0        0    1000     B    2.0      RENT  19200.0   24\n",
       "1        1    6500     A    2.0  MORTGAGE  66000.0   28\n",
       "2        0    2400     A    2.0      RENT  60000.0   36\n",
       "3        0   10000     C    3.0      RENT  62000.0   24\n",
       "4        1    4000     C    2.0      RENT  20000.0   28"
      ]
     },
     "execution_count": 1,
     "metadata": {},
     "output_type": "execute_result"
    }
   ],
   "source": [
    "# Load the libraries and configuration\n",
    "import numpy as np\n",
    "import pandas as pd\n",
    "import warnings\n",
    "warnings.filterwarnings('ignore')\n",
    "\n",
    "# Load the data and see head\n",
    "data = pd.read_csv(\"loan.csv\") \n",
    "data.head()"
   ]
  },
  {
   "cell_type": "markdown",
   "metadata": {},
   "source": [
    "*Target*\n",
    "- **default**: whether the applicant defaulted (1) or not (0)?\n",
    "\n",
    "*Features*\n",
    "- **age**: age of the applicant\n",
    "- **income**: annual income of the applicant\n",
    "- **year**: no. of years of employment\n",
    "- **ownership**: type of house owned\n",
    "- **amount** : amount of loan requested by the applicant\n",
    "- **grade**: credit grade of the applicant"
   ]
  },
  {
   "cell_type": "markdown",
   "metadata": {},
   "source": [
    "## REFINE\n",
    "\n",
    "> \"Data is messy\"\n",
    "\n",
    "- **Remove** e.g. remove redundant data from the dataframe\n",
    "- **Derive** e.g. state and city from the location field\n",
    "- **Parse** e.g. extract date from year and month column\n",
    "\n",
    "Also, you need to check for consistency and quality of the data\n",
    "- **Missing** e.g. Check for missing or incomplete data\n",
    "- **Quality** e.g. Check for duplicates, accuracy, unusual data\n"
   ]
  },
  {
   "cell_type": "code",
   "execution_count": 2,
   "metadata": {},
   "outputs": [
    {
     "data": {
      "text/plain": [
       "default        0\n",
       "amount         0\n",
       "grade          0\n",
       "years        279\n",
       "ownership      0\n",
       "income         0\n",
       "age            0\n",
       "dtype: int64"
      ]
     },
     "execution_count": 2,
     "metadata": {},
     "output_type": "execute_result"
    }
   ],
   "source": [
    "# Let's check for missing values in our data\n",
    "data.isnull().sum()"
   ]
  },
  {
   "cell_type": "markdown",
   "metadata": {},
   "source": [
    "### Handling missing values\n",
    "\n",
    "- **REMOVE** - NaN rows or columns\n",
    "- **IMPUTATE** - Replace them with something? mean, median, fixed number (based on domain) or high number (e..g 999, though could have issues later)\n",
    "- **BIN** - Convert to categorical variable and \"missing becomes a category\"\n",
    "- **DOMAIN SPECIFIC** - Entry error, pipeline, etc.\n",
    "\n",
    "In our case, let's replace missing values for years with mean\n"
   ]
  },
  {
   "cell_type": "code",
   "execution_count": 3,
   "metadata": {},
   "outputs": [
    {
     "data": {
      "text/plain": [
       "6.086331901181525"
      ]
     },
     "execution_count": 3,
     "metadata": {},
     "output_type": "execute_result"
    }
   ],
   "source": [
    "# Let us replace the NaNs with mean for years\n",
    "np.mean(data.years)"
   ]
  },
  {
   "cell_type": "code",
   "execution_count": 4,
   "metadata": {
    "collapsed": true
   },
   "outputs": [],
   "source": [
    "# There is a fillna function for missing data\n",
    "data.years = data.years.fillna(np.mean(data.years))"
   ]
  },
  {
   "cell_type": "markdown",
   "metadata": {},
   "source": [
    "## EXPLORE\n",
    "\n",
    "> \"I don't know, what I don't know\"\n",
    "\n",
    "### Data Types\n",
    "\n",
    "- **Categorical**\n",
    "   - *Nominal*: home owner [rent, own, mortgage] \n",
    "   - *Ordinal*: credit grade [A > B > C > D > E]\n",
    "- **Continuous**\n",
    "    - *Interval*: approval date  [20/04/16, 19/11/15]\n",
    "    - *Ratio*: loan amount [3000, 10000]\n",
    "\n",
    "### Visual Exploration\n",
    "- Explore **One dimension visualisation**\n",
    "- Explore **Two dimensions visualiation**\n",
    "- Explore **Multi dimensionsal visualisation**"
   ]
  },
  {
   "cell_type": "code",
   "execution_count": 5,
   "metadata": {
    "collapsed": true
   },
   "outputs": [],
   "source": [
    "# Load the plotting libraries \n",
    "from plotnine import *\n",
    "%matplotlib inline\n",
    "from plotnine.themes import theme_538\n",
    "\n",
    "# Convert `default` to categorical variable\n",
    "data_plot = data.copy()\n",
    "data_plot['default'] = data_plot['default'].astype('category')"
   ]
  },
  {
   "cell_type": "markdown",
   "metadata": {},
   "source": [
    "### Two Dimension Exploration \n",
    "\n",
    "We expect the default rate to go up as the credit score of the customer go down."
   ]
  },
  {
   "cell_type": "code",
   "execution_count": 6,
   "metadata": {},
   "outputs": [
    {
     "data": {
      "image/png": "[encoded data removed]",
      "text/plain": [
       "<matplotlib.figure.Figure at 0x11ad686d8>"
      ]
     },
     "metadata": {},
     "output_type": "display_data"
    },
    {
     "data": {
      "text/plain": [
       "<ggplot: (296569159)>"
      ]
     },
     "execution_count": 6,
     "metadata": {},
     "output_type": "execute_result"
    }
   ],
   "source": [
    "# Let's see the relationship between `grade` and `default`\n",
    "(ggplot(data_plot) + aes('grade', fill =\"default\") + \n",
    "   geom_bar(position = 'fill') + theme_538())"
   ]
  },
  {
   "cell_type": "markdown",
   "metadata": {},
   "source": [
    "### Three Dimension Exploration \n",
    "\n",
    "We would like to understand what impact does age and income have on the default rate"
   ]
  },
  {
   "cell_type": "code",
   "execution_count": 7,
   "metadata": {},
   "outputs": [
    {
     "data": {
      "image/png": "[encoded data removed]",
      "text/plain": [
       "<matplotlib.figure.Figure at 0x11cfb5b00>"
      ]
     },
     "metadata": {},
     "output_type": "display_data"
    },
    {
     "data": {
      "text/plain": [
       "<ggplot: (-9223372036556016545)>"
      ]
     },
     "execution_count": 7,
     "metadata": {},
     "output_type": "execute_result"
    }
   ],
   "source": [
    "# Let us see the relationship between `age`, `income` and `default`\n",
    "( ggplot(data_plot) + aes('age', 'income', color='default') + \n",
    "    geom_bin2d() + scale_y_log10() +\n",
    "    facet_wrap(\"default\") + theme_538()\n",
    ")"
   ]
  },
  {
   "cell_type": "markdown",
   "metadata": {},
   "source": [
    "## TRANSFORM\n",
    "\n",
    "> \"What is measured may not help answer what is needed \"\n",
    "\n",
    "**Scale Transformation** e.g.\n",
    "- Log Transform\n",
    "- Sqrt Transform\n",
    "\n",
    "**Mutate & Summarize** e.g.\n",
    "- **Convert** e.g. free text to coded value\n",
    "- **Calculate** e.g. percentages, proportion\n",
    "- **Merge** e.g. first and surname for full name\n",
    "- **Aggregate** e.g. rollup by year, cluster by area\n",
    "- **Filter** e.g. exclude based on location\n",
    "- **Sample** e.g. extract a representative data\n",
    "- **Summary** e.g. show summary stats like mean\n",
    "\n",
    "**Categorical Encodings** e.g.\n",
    "- Label Encoding\n",
    "- One Hot Encoding "
   ]
  },
  {
   "cell_type": "markdown",
   "metadata": {},
   "source": [
    "Two of the columns are categorical in nature - `grade` and `ownership`. To build models, we need all of the features to be numeric. There exists a number of ways to transform categorical variables to numeric values.\n",
    "\n",
    "We will use one of the popular options: `LabelEncoding`\n",
    "\n"
   ]
  },
  {
   "cell_type": "code",
   "execution_count": 8,
   "metadata": {
    "collapsed": true
   },
   "outputs": [],
   "source": [
    "# Load the library for preprocessing \n",
    "from sklearn.preprocessing import LabelEncoder\n",
    "\n",
    "# Let's not modify the original dataset. Let's copy it in another dataset\n",
    "data_encoded = data.copy()"
   ]
  },
  {
   "cell_type": "code",
   "execution_count": 9,
   "metadata": {},
   "outputs": [
    {
     "data": {
      "text/html": [
       "<div>\n",
       "<style>\n",
       "    .dataframe thead tr:only-child th {\n",
       "        text-align: right;\n",
       "    }\n",
       "\n",
       "    .dataframe thead th {\n",
       "        text-align: left;\n",
       "    }\n",
       "\n",
       "    .dataframe tbody tr th {\n",
       "        vertical-align: top;\n",
       "    }\n",
       "</style>\n",
       "<table border=\"1\" class=\"dataframe\">\n",
       "  <thead>\n",
       "    <tr style=\"text-align: right;\">\n",
       "      <th></th>\n",
       "      <th>default</th>\n",
       "      <th>amount</th>\n",
       "      <th>grade</th>\n",
       "      <th>years</th>\n",
       "      <th>ownership</th>\n",
       "      <th>income</th>\n",
       "      <th>age</th>\n",
       "    </tr>\n",
       "  </thead>\n",
       "  <tbody>\n",
       "    <tr>\n",
       "      <th>0</th>\n",
       "      <td>0</td>\n",
       "      <td>1000</td>\n",
       "      <td>1</td>\n",
       "      <td>2.0</td>\n",
       "      <td>3</td>\n",
       "      <td>19200.0</td>\n",
       "      <td>24</td>\n",
       "    </tr>\n",
       "    <tr>\n",
       "      <th>1</th>\n",
       "      <td>1</td>\n",
       "      <td>6500</td>\n",
       "      <td>0</td>\n",
       "      <td>2.0</td>\n",
       "      <td>0</td>\n",
       "      <td>66000.0</td>\n",
       "      <td>28</td>\n",
       "    </tr>\n",
       "    <tr>\n",
       "      <th>2</th>\n",
       "      <td>0</td>\n",
       "      <td>2400</td>\n",
       "      <td>0</td>\n",
       "      <td>2.0</td>\n",
       "      <td>3</td>\n",
       "      <td>60000.0</td>\n",
       "      <td>36</td>\n",
       "    </tr>\n",
       "    <tr>\n",
       "      <th>3</th>\n",
       "      <td>0</td>\n",
       "      <td>10000</td>\n",
       "      <td>2</td>\n",
       "      <td>3.0</td>\n",
       "      <td>3</td>\n",
       "      <td>62000.0</td>\n",
       "      <td>24</td>\n",
       "    </tr>\n",
       "    <tr>\n",
       "      <th>4</th>\n",
       "      <td>1</td>\n",
       "      <td>4000</td>\n",
       "      <td>2</td>\n",
       "      <td>2.0</td>\n",
       "      <td>3</td>\n",
       "      <td>20000.0</td>\n",
       "      <td>28</td>\n",
       "    </tr>\n",
       "  </tbody>\n",
       "</table>\n",
       "</div>"
      ],
      "text/plain": [
       "   default  amount  grade  years  ownership   income  age\n",
       "0        0    1000      1    2.0          3  19200.0   24\n",
       "1        1    6500      0    2.0          0  66000.0   28\n",
       "2        0    2400      0    2.0          3  60000.0   36\n",
       "3        0   10000      2    3.0          3  62000.0   24\n",
       "4        1    4000      2    2.0          3  20000.0   28"
      ]
     },
     "execution_count": 9,
     "metadata": {},
     "output_type": "execute_result"
    }
   ],
   "source": [
    "# instantiate label encoder\n",
    "le_grade = LabelEncoder()\n",
    "le_ownership = LabelEncoder()\n",
    "\n",
    "# fit label encoder\n",
    "le_grade = le_grade.fit(data_encoded[\"grade\"])\n",
    "le_ownership = le_ownership.fit(data[\"ownership\"])\n",
    "\n",
    "# Transform the label\n",
    "data_encoded.grade = le_grade.transform(data_encoded.grade)\n",
    "data_encoded.ownership = le_ownership.transform(data_encoded.ownership)\n",
    "\n",
    "# Lets see the encoded data now\n",
    "data_encoded.head()"
   ]
  },
  {
   "cell_type": "markdown",
   "metadata": {},
   "source": [
    "## MODEL\n",
    "\n",
    "\n",
    "> \"All models are wrong, Some of them are useful\"\n",
    "\n",
    "\n",
    "### Supervised Learning\n",
    "\n",
    "Given a set of **feature** `X`, to predict the value of **target** `y`\n",
    "- If `y` is *continuous* - **Regression**\n",
    "- If `y` is *categorical* - **Classification**\n",
    "\n",
    "**Model Family**\n",
    "- Linear\n",
    "- Tree-Based\n",
    "- Kernel-Baed\n",
    "- Neural Network\n",
    "\n",
    "**Choosing a Model**\n",
    "\n",
    "1. Interpretability\n",
    "2. Run-time\n",
    "3. Model complexity\n",
    "4. Scalability\n",
    "\n",
    "Let's build two tree-based classifier - Decision Tree & Random Forest"
   ]
  },
  {
   "cell_type": "code",
   "execution_count": 10,
   "metadata": {
    "collapsed": true
   },
   "outputs": [],
   "source": [
    "# Load the library\n",
    "from sklearn.tree import DecisionTreeClassifier\n",
    "from sklearn.ensemble import RandomForestClassifier\n",
    "\n",
    "# Setup the features and target\n",
    "X = data_encoded.iloc[:,1:]\n",
    "y = data_encoded.iloc[:,0]"
   ]
  },
  {
   "cell_type": "code",
   "execution_count": 11,
   "metadata": {
    "collapsed": true
   },
   "outputs": [],
   "source": [
    "# Save the prediction class and probabilities\n",
    "def prediction(clf, X, y):\n",
    "    clf = clf.fit(X,y)\n",
    "    y_pred = clf.predict(X)\n",
    "    y_proba = clf.predict_proba(X)[:,1]\n",
    "    prediction = pd.DataFrame({\"actual\": np.array(y), \"predicted\": y_pred, \"probability\": y_proba})\n",
    "    prediction['predicted'] = prediction['predicted'].astype('category')\n",
    "    prediction['actual'] = prediction['actual'].astype('category')\n",
    "    return prediction"
   ]
  },
  {
   "cell_type": "code",
   "execution_count": 12,
   "metadata": {
    "collapsed": true
   },
   "outputs": [],
   "source": [
    "# Build a Decision Tree Classifier\n",
    "clf_tree = DecisionTreeClassifier(max_depth=10)\n",
    "prediction_tree = prediction(clf_tree, X, y)\n",
    "\n",
    "# Build a Random Forest Classifier\n",
    "clf_forest = RandomForestClassifier(n_estimators=40)\n",
    "prediction_forest = prediction(clf_forest, X, y)"
   ]
  },
  {
   "cell_type": "markdown",
   "metadata": {},
   "source": [
    "Let us see how well the classifiers are performing in separating the two classes"
   ]
  },
  {
   "cell_type": "code",
   "execution_count": 13,
   "metadata": {},
   "outputs": [
    {
     "data": {
      "image/png": "[encoded data removed]",
      "text/plain": [
       "<matplotlib.figure.Figure at 0x124586080>"
      ]
     },
     "metadata": {},
     "output_type": "display_data"
    },
    {
     "data": {
      "text/plain": [
       "<ggplot: (-9223372036555365660)>"
      ]
     },
     "execution_count": 13,
     "metadata": {},
     "output_type": "execute_result"
    }
   ],
   "source": [
    "# Plotting predicted probability VS. actuals for Decision Tree Classifier\n",
    "(ggplot(prediction_tree) + aes('probability', fill='actual') + \n",
    "    geom_density(alpha = 0.5) + theme_538()\n",
    ")"
   ]
  },
  {
   "cell_type": "code",
   "execution_count": 14,
   "metadata": {},
   "outputs": [
    {
     "data": {
      "image/png": "[encoded data removed]",
      "text/plain": [
       "<matplotlib.figure.Figure at 0x12488e6a0>"
      ]
     },
     "metadata": {},
     "output_type": "display_data"
    },
    {
     "data": {
      "text/plain": [
       "<ggplot: (-9223372036555835574)>"
      ]
     },
     "execution_count": 14,
     "metadata": {},
     "output_type": "execute_result"
    }
   ],
   "source": [
    "# Plotting predicted probability VS. actuals for Random Forest Classifier\n",
    "(ggplot(prediction_forest) + aes('probability', fill='actual') + \n",
    "    geom_density(alpha = 0.5) + theme_538()\n",
    ")"
   ]
  },
  {
   "cell_type": "markdown",
   "metadata": {},
   "source": [
    "## INSIGHT\n",
    "\n",
    "> \"The purpose of data science is to create insight\"\n",
    "\n",
    "While we have created many model, we still don't have a *measure* of how good each of the model is and which one should we pick. We need to measure some accuracy metric of the model and have confidence that it will generalize well. We should be confident that when we put the model in production (real-life), the accuracy we get from the model results should mirror the metrics we obtained when we built the model.\n",
    "\n",
    "- Choosing an Error Metric: `Area Under Curve`\n",
    "- Cross Validation: How well will the model generalize on unseen data"
   ]
  },
  {
   "cell_type": "markdown",
   "metadata": {},
   "source": [
    "### Cross Validation using AUC\n",
    "\n",
    "We will use `StratifiedKFold`. This ensures that in each fold, the proportion of positive class and negative class remain similar to the original dataset. This is the process we will follow to get the mean cv-score\n",
    "\n",
    "1. Generate k-fold\n",
    "2. Train the model using k-1 fold\n",
    "3. Predict for the kth fold \n",
    "4. Find the accuracy.\n",
    "5. Append it to the array\n",
    "6. Repeat 2-5 for different validation folds\n",
    "7. Report the mean cross validation score"
   ]
  },
  {
   "cell_type": "code",
   "execution_count": 15,
   "metadata": {
    "collapsed": true
   },
   "outputs": [],
   "source": [
    "# Load the libraries\n",
    "from sklearn.metrics import roc_auc_score\n",
    "from sklearn.metrics import roc_curve\n",
    "from sklearn.model_selection import StratifiedKFold"
   ]
  },
  {
   "cell_type": "code",
   "execution_count": 16,
   "metadata": {
    "collapsed": true
   },
   "outputs": [],
   "source": [
    "# Setup a function to conduct cross-validation\n",
    "def cross_validation(clf, X, y, k):\n",
    "    \n",
    "    # Instantiate stratified k fold.\n",
    "    kf = StratifiedKFold(n_splits=k)\n",
    "    \n",
    "    # Let's use an array to store the results of cross-validation\n",
    "    kfold_auc_score = []\n",
    "\n",
    "    # Run kfold CV\n",
    "    for train_index, test_index in kf.split(X,y):\n",
    "        clf = clf.fit(X.iloc[train_index], y.iloc[train_index])\n",
    "        proba = clf.predict_proba(X.iloc[test_index])[:,1]\n",
    "        auc_score = roc_auc_score(y.iloc[test_index],proba)\n",
    "        print(auc_score)\n",
    "        kfold_auc_score.append(auc_score)\n",
    "    \n",
    "    print(\"Mean K Fold CV:\", np.mean(kfold_auc_score))"
   ]
  },
  {
   "cell_type": "code",
   "execution_count": 17,
   "metadata": {},
   "outputs": [
    {
     "name": "stdout",
     "output_type": "stream",
     "text": [
      "0.616927939105\n",
      "0.628056468379\n",
      "0.645746381167\n",
      "0.703180980266\n",
      "0.689194203152\n",
      "Mean K Fold CV: 0.656621194414\n"
     ]
    }
   ],
   "source": [
    "# Lets get the cross-validation score for Decision Tree Classifier\n",
    "cross_validation(clf_tree, X, y, 5)"
   ]
  },
  {
   "cell_type": "code",
   "execution_count": 18,
   "metadata": {},
   "outputs": [
    {
     "name": "stdout",
     "output_type": "stream",
     "text": [
      "0.693877003554\n",
      "0.682467641339\n",
      "0.715824650708\n",
      "0.767269833488\n",
      "0.800936481128\n",
      "Mean K Fold CV: 0.732075122043\n"
     ]
    }
   ],
   "source": [
    "# Lets get the cross-validation score for Random Forest Classifier\n",
    "cross_validation(clf_forest, X, y, 5)"
   ]
  },
  {
   "cell_type": "markdown",
   "metadata": {},
   "source": [
    "## DEPLOY \n",
    "\n",
    "> \"What you build - you test, you ship and you maintain\"\n",
    "\n",
    "Once the final model has been selected, we need to ensure that other data application can access the model and use it in their process. This requires us to do two important tasks.\n",
    "\n",
    "- Serialising the Model (e.g. `pickle`)\n",
    "- Serving the ML Model as a Service \n"
   ]
  },
  {
   "cell_type": "code",
   "execution_count": 19,
   "metadata": {
    "collapsed": true
   },
   "outputs": [],
   "source": [
    "# Build the selected model\n",
    "loan_default_model = RandomForestClassifier(n_estimators=40).fit(X, y)"
   ]
  },
  {
   "cell_type": "markdown",
   "metadata": {},
   "source": [
    "### Model Serialization\n",
    "\n",
    "We will need to serialize both the model and the encoders used to create them"
   ]
  },
  {
   "cell_type": "code",
   "execution_count": 20,
   "metadata": {
    "collapsed": true
   },
   "outputs": [],
   "source": [
    "# Use joblib to serialize the model\n",
    "from sklearn.externals import joblib\n",
    "\n",
    "joblib.dump(loan_default_model, \"loan_default_model.pkl\")\n",
    "joblib.dump(le_grade, \"le_grade.pkl\")\n",
    "joblib.dump(le_ownership, \"le_ownership.pkl\");"
   ]
  },
  {
   "cell_type": "markdown",
   "metadata": {},
   "source": [
    "### ML as a service \n",
    "\n",
    "While we can package the model with the application and use it, it created tight coupling between the two. Everytime the model changes, the application will have to change. What if there are more than one application using the same model? \n",
    "\n",
    "It is lot simpler to deploy the ML model as a service exposing it's functionality through an HTTP API.\n",
    "\n",
    "In this task we are going to use a tool called firefly for running the model as a service."
   ]
  },
  {
   "cell_type": "code",
   "execution_count": 21,
   "metadata": {},
   "outputs": [
    {
     "name": "stdout",
     "output_type": "stream",
     "text": [
      "Overwriting loan_default_api.py\n"
     ]
    }
   ],
   "source": [
    "%%file loan_default_api.py\n",
    "\n",
    "\"\"\"Service to expose the credit risk model as an API.\n",
    "\"\"\"\n",
    "from sklearn.externals import joblib\n",
    "\n",
    "# read the encoders and the model\n",
    "grade_encoder = joblib.load(\"le_grade.pkl\")\n",
    "ownership_encoder = joblib.load(\"le_ownership.pkl\")\n",
    "model = joblib.load(\"loan_default_model.pkl\")\n",
    "\n",
    "def predict(amount, years, age, ownership, income, grade):\n",
    "    \"\"\"Returns the probablity of default for given features.\n",
    "    \"\"\"\n",
    "    # encoders work on a vector. Wrapping in a list as we only have a single value\n",
    "    ownership_code = ownership_encoder.transform([ownership])[0]\n",
    "    grade_code = grade_encoder.transform([grade])[0]\n",
    "    \n",
    "    # important to pass the features in the same order as we built the model\n",
    "    features = [amount, grade_code, years, ownership_code, income, age]\n",
    "    \n",
    "    # probablity for not-defaulting and defaulting\n",
    "    # Again, wrapping in a list as a list of features is expected\n",
    "    p0, p1 = model.predict_proba([features])[0]\n",
    "    return p1"
   ]
  },
  {
   "cell_type": "markdown",
   "metadata": {},
   "source": [
    "### Start the ML Service \n",
    "Run the following command in your terminal \n",
    "\n",
    "     firefly loan_default_api.predict\n",
    "     \n",
    "<br>"
   ]
  },
  {
   "cell_type": "markdown",
   "metadata": {},
   "source": [
    "## BUILD \n",
    "\n",
    "> \"The role of data scientist is to build a data-driven product solution\n",
    "\n",
    "Now that we have a prediction API, this can be consumed as part of many applications to provide insight and help in decision making.\n",
    "\n",
    "- Dashboards \n",
    "- Web / Mobile Application \n",
    "- IoT Applications"
   ]
  },
  {
   "cell_type": "code",
   "execution_count": 22,
   "metadata": {
    "collapsed": true
   },
   "outputs": [],
   "source": [
    "# Load the libaries\n",
    "from firefly.client import Client\n",
    "\n",
    "# Access the predict function from the jupyter notebook\n",
    "loan_default_api = Client(\"http://127.0.0.1:8000\")"
   ]
  },
  {
   "cell_type": "code",
   "execution_count": 23,
   "metadata": {},
   "outputs": [
    {
     "data": {
      "text/plain": [
       "0.425"
      ]
     },
     "execution_count": 23,
     "metadata": {},
     "output_type": "execute_result"
    }
   ],
   "source": [
    "# Example 1\n",
    "loan_default_api.predict(amount=100000, years=2, age=35, ownership='RENT', income=12345, grade='A')"
   ]
  },
  {
   "cell_type": "code",
   "execution_count": 24,
   "metadata": {},
   "outputs": [
    {
     "data": {
      "text/plain": [
       "0.7"
      ]
     },
     "execution_count": 24,
     "metadata": {},
     "output_type": "execute_result"
    }
   ],
   "source": [
    "# Example 2\n",
    "loan_default_api.predict(amount=100000, years=2, age=35, ownership='RENT', income=12345, grade='G')"
   ]
  },
  {
   "cell_type": "code",
   "execution_count": 25,
   "metadata": {},
   "outputs": [
    {
     "data": {
      "text/plain": [
       "0.65"
      ]
     },
     "execution_count": 25,
     "metadata": {},
     "output_type": "execute_result"
    }
   ],
   "source": [
    "# Example 3\n",
    "loan_default_api.predict(amount=100, years=2, age=35, ownership='RENT', income=12345, grade='G')"
   ]
  },
  {
   "cell_type": "code",
   "execution_count": null,
   "metadata": {
    "collapsed": true
   },
   "outputs": [],
   "source": []
  }
 ],
 "metadata": {
  "anaconda-cloud": {},
  "kernelspec": {
   "display_name": "Python [default]",
   "language": "python",
   "name": "python3"
  },
  "language_info": {
   "codemirror_mode": {
    "name": "ipython",
    "version": 3
   },
   "file_extension": ".py",
   "mimetype": "text/x-python",
   "name": "python",
   "nbconvert_exporter": "python",
   "pygments_lexer": "ipython3",
   "version": "3.6.2"
  }
 },
 "nbformat": 4,
 "nbformat_minor": 2
}
